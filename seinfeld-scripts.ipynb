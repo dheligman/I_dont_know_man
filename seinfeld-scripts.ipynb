{
 "cells": [
  {
   "cell_type": "markdown",
   "metadata": {},
   "source": [
    "# Libraries"
   ]
  },
  {
   "cell_type": "code",
   "execution_count": null,
   "metadata": {},
   "outputs": [],
   "source": [
    "#importing necessary libraries\n",
    "import urllib.request as ur\n",
    "import pandas as pd\n",
    "import re\n",
    "from bs4 import BeautifulSoup"
   ]
  },
  {
   "cell_type": "markdown",
   "metadata": {},
   "source": [
    "# Titles"
   ]
  },
  {
   "cell_type": "code",
   "execution_count": null,
   "metadata": {},
   "outputs": [],
   "source": [
    "#opening the seinfeld database and converting it into an object\n",
    "main = ur.urlopen(\"https://www.imsdb.com/TV/Seinfeld.html\")\n",
    "mainread = str(main.read())\n",
    "\n",
    "#defining a function to grab the urls from the webpage\n",
    "def titlegrab(webpage):\n",
    "    webobj = BeautifulSoup(webpage)\n",
    "    alllinks = webobj.find_all('a')\n",
    "    dirtylinks = alllinks[64:-7]\n",
    "    titles = []\n",
    "    for i in range(len(dirtylinks)):\n",
    "        squote = str(dirtylinks[i]).find(\"-\",0)+2\n",
    "        equote = str(dirtylinks[i]).find(\"Script\",squote)-1\n",
    "        titles = titles + [str(dirtylinks[i])[squote:equote]]\n",
    "    return titles\n",
    "\n",
    "titles = titlegrab(mainread)"
   ]
  },
  {
   "cell_type": "markdown",
   "metadata": {},
   "source": [
    "# URLs"
   ]
  },
  {
   "cell_type": "code",
   "execution_count": null,
   "metadata": {},
   "outputs": [],
   "source": [
    "#defining a function to convert a list of unmodified links into usable links\n",
    "def urlbuilder(list):\n",
    "        prelink = \"https://www.imsdb.com/transcripts/Seinfeld-\"\n",
    "        rawlinks = list\n",
    "        final_urls = []\n",
    "        for i in range(len(list)):\n",
    "            extension = '-'.join(rawlinks[i].split(\" \"))\n",
    "            final_urls = final_urls + [prelink + extension +\".html\"]\n",
    "        return final_urls\n",
    "        \n",
    "links = urlbuilder(titles)        "
   ]
  },
  {
   "cell_type": "markdown",
   "metadata": {},
   "source": [
    "# Deriving Scripts and forming a data frame"
   ]
  },
  {
   "cell_type": "code",
   "execution_count": null,
   "metadata": {
    "scrolled": false
   },
   "outputs": [],
   "source": [
    "def cleanup_script(link):\n",
    "    raw_script_page = ur.urlopen(link)\n",
    "    raw_script = str(raw_script_page.read())\n",
    "    raw_script = \"'\".join(raw_script.split(\"\\\\'\"))\n",
    "    raw_script2 = raw_script.split(\"<body>\")\n",
    "    the_end = raw_script2[1].find('THE END',0)\n",
    "    raw_script3 = raw_script2[1][:the_end+7]\n",
    "    soup_script = BeautifulSoup(raw_script3)\n",
    "    clean_script = soup_script.get_text()\n",
    "    clean_script = clean_script.split(\"\\\\n\")\n",
    "    return clean_script\n",
    "\n",
    "all_script = []\n",
    "for i in range(len(titles)):\n",
    "    script = cleanup_script(links[i])\n",
    "    all_script = all_script + [script]\n",
    "\n",
    "script_df = pd.DataFram(all_script)\n"
   ]
  },
  {
   "cell_type": "code",
   "execution_count": null,
   "metadata": {},
   "outputs": [],
   "source": []
  },
  {
   "cell_type": "code",
   "execution_count": null,
   "metadata": {},
   "outputs": [],
   "source": []
  }
 ],
 "metadata": {
  "kernelspec": {
   "display_name": "Python 3",
   "language": "python",
   "name": "python3"
  },
  "language_info": {
   "codemirror_mode": {
    "name": "ipython",
    "version": 3
   },
   "file_extension": ".py",
   "mimetype": "text/x-python",
   "name": "python",
   "nbconvert_exporter": "python",
   "pygments_lexer": "ipython3",
   "version": "3.6.7"
  }
 },
 "nbformat": 4,
 "nbformat_minor": 2
}
